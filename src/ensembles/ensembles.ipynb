{
 "cells": [
  {
   "cell_type": "markdown",
   "metadata": {
    "id": "1PjQglGj4q54"
   },
   "source": [
    "# Случайные леса\n",
    "\n",
    "В этом задании вам предстоит реализовать ансамбль деревьев решений, известный как случайный лес, применить его к публичным данным пользователей социальной сети Вконтакте, и сравнить его эффективность с бустингом, предоставляемым библиотекой `CatBoost`.\n",
    "\n",
    "В результате мы сможем определить, какие подписки пользователей больше всего влияют на определение возраста и пола человека."
   ]
  },
  {
   "cell_type": "code",
   "execution_count": 100,
   "metadata": {
    "id": "LH5PiGz04q5-"
   },
   "outputs": [],
   "source": [
    "import inspect\n",
    "import random\n",
    "from collections import Counter\n",
    "from dataclasses import dataclass\n",
    "from itertools import product\n",
    "from typing import Callable, List, Tuple, Union\n",
    "\n",
    "import numpy as np\n",
    "import numpy.typing as npt\n",
    "import pandas\n",
    "from catboost import CatBoostClassifier\n",
    "from sklearn.model_selection import train_test_split\n",
    "from tqdm.notebook import tqdm"
   ]
  },
  {
   "cell_type": "code",
   "execution_count": 101,
   "metadata": {
    "pycharm": {
     "name": "#%%\n"
    },
    "id": "AZCYD3H60-sB"
   },
   "outputs": [],
   "source": [
    "def set_seed(seed=42):\n",
    "    np.random.seed(seed)\n",
    "    random.seed(seed)\n",
    "\n",
    "\n",
    "# Этой функцией будут помечены все места, которые необходимо дозаполнить\n",
    "# Это могут быть как целые функции, так и отдельные части внутри них\n",
    "# Всегда можно воспользоваться интроспекцией и найти места использования этой функции :)\n",
    "def todo():\n",
    "    stack = inspect.stack()\n",
    "    caller_frame = stack[1]\n",
    "    function_name = caller_frame.function\n",
    "    line_number = caller_frame.lineno\n",
    "    raise NotImplementedError(f\"TODO at {function_name}, line {line_number}\")\n",
    "\n",
    "\n",
    "SEED = 0xC0FFEE\n",
    "set_seed(SEED)"
   ]
  },
  {
   "cell_type": "code",
   "execution_count": 102,
   "metadata": {
    "id": "HMQvsXcC0-sB"
   },
   "outputs": [],
   "source": [
    "def mode(data):\n",
    "    counts = Counter(data)\n",
    "    return counts.most_common(n=1)[0][0]"
   ]
  },
  {
   "cell_type": "markdown",
   "metadata": {
    "id": "tfxycK0Q4q5_"
   },
   "source": [
    "### Задание 1 (2 балла)\n",
    "Random Forest состоит из деревьев решений. Каждое такое дерево строится на одной из выборок, полученных при помощи bootstrap. Элементы, которые не вошли в новую обучающую выборку, образуют **out-of-bag** выборку. Кроме того, в каждом узле дерева мы случайным образом выбираем набор из `max_features` и ищем признак для предиката разбиения только в этом наборе.\n",
    "\n",
    "Сегодня мы будем работать только с бинарными признаками, поэтому нет необходимости выбирать значение признака для разбиения.\n",
    "\n",
    "#### Методы\n",
    "`predict(X)` - возвращает предсказанные метки для элементов выборки `X`\n",
    "\n",
    "#### Параметры конструктора\n",
    "`X, y` - обучающая выборка и соответствующие ей метки классов. Из нее нужно получить выборку для построения дерева при помощи bootstrap. Out-of-bag выборку нужно запомнить, она понадобится потом.\n",
    "\n",
    "`criterion=\"gini\"` - задает критерий, который будет использоваться при построении дерева. Возможные значения: `\"gini\"`, `\"entropy\"`.\n",
    "\n",
    "`max_depth=None` - ограничение глубины дерева. Если `None` - глубина не ограничена\n",
    "\n",
    "`min_samples_leaf=1` - минимальное количество элементов в каждом листе дерева.\n",
    "\n",
    "`max_features=\"auto\"` - количество признаков, которые могут использоваться в узле. Если `\"auto\"` - равно `sqrt(X.shape[1])`"
   ]
  },
  {
   "cell_type": "code",
   "execution_count": 103,
   "metadata": {
    "id": "bQUJHTjS4q5-"
   },
   "outputs": [],
   "source": [
    "# Для начала реализуем сами критерии\n",
    "\n",
    "\n",
    "def gini(x: npt.ArrayLike) -> float:\n",
    "    \"\"\"\n",
    "    Calculate the Gini impurity of a list or array of class labels.\n",
    "\n",
    "    Args:\n",
    "        x (ArrayLike): Array-like object containing class labels.\n",
    "\n",
    "    Returns:\n",
    "        float: Gini impurity value.\n",
    "    \"\"\"\n",
    "    _, cnt_labels = np.unique(x, return_counts=True)\n",
    "    p_labels = cnt_labels / x.size\n",
    "    return np.sum(p_labels * (1 - p_labels))\n",
    "\n",
    "\n",
    "def entropy(x: npt.ArrayLike) -> float:\n",
    "    \"\"\"\n",
    "    Calculate the entropy of a list or array of class labels.\n",
    "\n",
    "    Args:\n",
    "        x (ArrayLike): Array-like object containing class labels.\n",
    "\n",
    "    Returns:\n",
    "        float: Entropy value.\n",
    "    \"\"\"\n",
    "    _, cnt_labels = np.unique(x, return_counts=True)\n",
    "    p_labels = cnt_labels / x.size\n",
    "    return -np.sum(p_labels * np.log(p_labels))\n",
    "\n",
    "\n",
    "def gain(left_y: npt.ArrayLike, right_y: npt.ArrayLike, criterion: Callable[[npt.ArrayLike], float]) -> float:\n",
    "    \"\"\"\n",
    "    Calculate the information gain of a split using a specified criterion.\n",
    "\n",
    "    Args:\n",
    "        left_y (ArrayLike): Class labels for the left split.\n",
    "        right_y (ArrayLike): Class labels for the right split.\n",
    "        criterion (Callable): Function to calculate impurity (e.g., gini or entropy).\n",
    "\n",
    "    Returns:\n",
    "        float: Information gain from the split.\n",
    "    \"\"\"\n",
    "    parent_size = left_y.size + right_y.size\n",
    "\n",
    "    parent_impurity = criterion(np.hstack((left_y, right_y)))\n",
    "    left_impurity = criterion(left_y)\n",
    "    right_impurity = criterion(right_y)\n",
    "\n",
    "    return parent_impurity - left_impurity * (left_y.size / parent_size) - right_impurity * (right_y.size / parent_size)"
   ]
  },
  {
   "cell_type": "code",
   "execution_count": 104,
   "metadata": {
    "pycharm": {
     "name": "#%%\n"
    },
    "id": "HOOL_YzM0-sC"
   },
   "outputs": [],
   "source": [
    "@dataclass\n",
    "class DecisionTreeLeaf:\n",
    "    classes: np.ndarray\n",
    "\n",
    "    def __post_init__(self):\n",
    "        self.max_class = mode(self.classes)\n",
    "\n",
    "\n",
    "@dataclass\n",
    "class DecisionTreeInternalNode:\n",
    "    split_dim: int\n",
    "    left: Union[\"DecisionTreeInternalNode\", DecisionTreeLeaf]\n",
    "    right: Union[\"DecisionTreeInternalNode\", DecisionTreeLeaf]\n",
    "\n",
    "\n",
    "DecisionTreeNode = Union[DecisionTreeInternalNode, DecisionTreeLeaf]"
   ]
  },
  {
   "cell_type": "code",
   "source": [
    "from typing import Optional"
   ],
   "metadata": {
    "id": "nylcbXENpbQo"
   },
   "execution_count": 105,
   "outputs": []
  },
  {
   "cell_type": "code",
   "execution_count": 106,
   "metadata": {
    "id": "8smLW2V_4q5_"
   },
   "outputs": [],
   "source": [
    "class DecisionTree:\n",
    "    criterions = {\"gini\": gini, \"entropy\": entropy}\n",
    "\n",
    "    def __init__(self, X, y, criterion=\"gini\", max_depth=None, min_samples_leaf=1, max_features=\"auto\"):\n",
    "        self._max_features = np.sqrt(X.shape[1]).astype(int) if max_features == \"auto\" else max_features\n",
    "        self._max_depth = max_depth\n",
    "        self._min_samples_leaf = min_samples_leaf\n",
    "        self._criterion = self.criterions[criterion]\n",
    "\n",
    "        bootstrap_indices = np.random.choice(np.arange(y.size), size=y.size, replace=True)\n",
    "        self._X = X[bootstrap_indices]\n",
    "        self._y = y[bootstrap_indices]\n",
    "\n",
    "        mask = np.zeros(y.size, dtype=bool)\n",
    "        mask[bootstrap_indices] = True\n",
    "        self._out_of_bag_X = X[~mask]\n",
    "        self._out_of_bag_y = y[~mask]\n",
    "        self._root = None\n",
    "        self._is_fit = False\n",
    "\n",
    "    @property\n",
    "    def out_of_bag(self) -> Tuple[np.ndarray, np.ndarray]:\n",
    "        return self._out_of_bag_X, self._out_of_bag_y\n",
    "\n",
    "    def _get_best_information_gain_dim(\n",
    "        self, points: np.ndarray, classes: np.ndarray, feature_indices: np.ndarray\n",
    "    ) -> Optional[int]:\n",
    "        best_dim = None\n",
    "        best_information_gain = 0\n",
    "        for dim in feature_indices:\n",
    "            left_node = classes[points[:, dim] == 0]\n",
    "            right_node = classes[points[:, dim] == 1]\n",
    "            if left_node.size >= self._min_samples_leaf and right_node.size >= self._min_samples_leaf:\n",
    "                curr_gain = gain(left_node, right_node, self._criterion)\n",
    "                if curr_gain > best_information_gain:\n",
    "                    best_information_gain = curr_gain\n",
    "                    best_dim = dim\n",
    "        return best_dim\n",
    "\n",
    "    def _build_node(self, points: np.ndarray, classes: np.ndarray, depth: int) -> DecisionTreeNode:\n",
    "        if np.all(classes == classes[0]):\n",
    "            return DecisionTreeLeaf(classes)\n",
    "        if self._max_depth is not None and depth == self._max_depth:\n",
    "            return DecisionTreeLeaf(classes)\n",
    "\n",
    "        feature_indices = np.random.randint(0, self._X.shape[1], size=self._max_features)\n",
    "        best_dim = self._get_best_information_gain_dim(points, classes, feature_indices)\n",
    "        if best_dim is None:\n",
    "            return DecisionTreeLeaf(classes)\n",
    "\n",
    "        left_indices = points[:, best_dim] == 0\n",
    "        left_node = self._build_node(points[left_indices], classes[left_indices], depth + 1)\n",
    "        right_node = self._build_node(points[~left_indices], classes[~left_indices], depth + 1)\n",
    "        return DecisionTreeInternalNode(best_dim, left_node, right_node)\n",
    "\n",
    "    def _predict(self, points: np.ndarray, node: DecisionTreeNode) -> np.ndarray:\n",
    "        if not self._is_fit:\n",
    "            raise ValueError(\"DecisionTree is not fit\")\n",
    "\n",
    "        def process_node(indices, curr_node):\n",
    "            if isinstance(curr_node, DecisionTreeLeaf):\n",
    "                predictions[indices] = curr_node.max_class\n",
    "                return\n",
    "\n",
    "            split_dim = curr_node.split_dim\n",
    "\n",
    "            left_mask = points[indices, split_dim] == 0\n",
    "            left_indices = indices[left_mask]\n",
    "            right_indices = indices[~left_mask]\n",
    "\n",
    "            if left_indices.size > 0:\n",
    "                process_node(left_indices, curr_node.left)\n",
    "            if right_indices.size > 0:\n",
    "                process_node(right_indices, curr_node.right)\n",
    "\n",
    "        predictions = np.empty(points.shape[0], dtype=self._y.dtype)\n",
    "        indices = np.arange(points.shape[0])\n",
    "        process_node(indices, node)\n",
    "\n",
    "        return predictions\n",
    "\n",
    "    def fit(self):\n",
    "        self._root = self._build_node(self._X, self._y, 0)\n",
    "        self._is_fit = True\n",
    "\n",
    "    def predict(self, points: np.ndarray) -> np.ndarray:\n",
    "        return self._predict(points, self._root)"
   ]
  },
  {
   "cell_type": "markdown",
   "metadata": {
    "id": "9oijgwLt4q6A"
   },
   "source": [
    "### Задание 2 (2 балла)\n",
    "Теперь реализуем сам Random Forest. Идея очень простая: строим `n` деревьев, а затем берем модальное предсказание.\n",
    "\n",
    "#### Параметры конструктора\n",
    "`n_estimators` - количество используемых для предсказания деревьев.\n",
    "\n",
    "Остальное - параметры деревьев.\n",
    "\n",
    "#### Методы\n",
    "`fit(X, y)` - строит `n_estimators` деревьев по выборке `X`.\n",
    "\n",
    "`predict(X)` - для каждого элемента выборки `X` возвращает самый частый класс, который предсказывают для него деревья."
   ]
  },
  {
   "cell_type": "code",
   "source": [
    "from sklearn.base import BaseEstimator, ClassifierMixin"
   ],
   "metadata": {
    "id": "4yl2ehVMEw2W"
   },
   "execution_count": 107,
   "outputs": []
  },
  {
   "cell_type": "code",
   "execution_count": 108,
   "metadata": {
    "id": "APIy88YW4q6A"
   },
   "outputs": [],
   "source": [
    "class RandomForestClassifier(BaseEstimator, ClassifierMixin):\n",
    "\n",
    "    _n_features: int = None\n",
    "\n",
    "    def __init__(self, criterion=\"gini\", max_depth=None, min_samples_leaf=1, max_features=\"auto\", n_estimators=10):\n",
    "        self.criterion = criterion\n",
    "        self.max_depth = max_depth\n",
    "        self.min_samples_leaf = min_samples_leaf\n",
    "        self.max_features = max_features\n",
    "        self.n_estimators = n_estimators\n",
    "        self._estimators = []\n",
    "\n",
    "    @property\n",
    "    def estimators(self) -> List[DecisionTree]:\n",
    "        return self._estimators\n",
    "\n",
    "    @property\n",
    "    def n_features(self) -> int:\n",
    "        if self._n_features is None:\n",
    "            raise RuntimeError(\"Fit random forest before accessing to number of features properties\")\n",
    "        return self._n_features\n",
    "\n",
    "    def fit(self, X, y):\n",
    "        RandomForestClassifier._n_features = X.shape[1]\n",
    "        for i in range(self.n_estimators):\n",
    "            decision_tree = DecisionTree(\n",
    "                X,\n",
    "                y,\n",
    "                self.criterion,\n",
    "                max_depth=self.max_depth,\n",
    "                min_samples_leaf=self.min_samples_leaf,\n",
    "                max_features=self.max_features,\n",
    "            )\n",
    "            decision_tree.fit()\n",
    "            self.estimators.append(decision_tree)\n",
    "\n",
    "    def predict(self, X):\n",
    "        all_predicts = np.array([estimator.predict(X) for estimator in self._estimators])\n",
    "        modes = []\n",
    "        for col in all_predicts.T:\n",
    "            values, counts = np.unique(col, return_counts=True)\n",
    "            mode = values[np.argmax(counts)]\n",
    "            modes.append(mode)\n",
    "        return np.array(modes)"
   ]
  },
  {
   "cell_type": "markdown",
   "metadata": {
    "id": "i80pffMn4q6A"
   },
   "source": [
    "### Задание 3 (2 балла)\n",
    "Часто хочется понимать, насколько большую роль играет тот или иной признак для предсказания класса объекта. Есть различные способы посчитать его важность. Один из простых способов сделать это для Random Forest - посчитать out-of-bag ошибку предсказания `err_oob`, а затем перемешать значения признака `j` и посчитать ее (`err_oob_j`) еще раз. Оценкой важности признака `j` для одного дерева будет разность `err_oob_j - err_oob`, важность для всего леса считается как среднее значение важности по деревьям.\n",
    "\n",
    "Реализуйте функцию `feature_importance`, которая принимает на вход Random Forest и возвращает массив, в котором содержится важность для каждого признака."
   ]
  },
  {
   "cell_type": "code",
   "execution_count": 109,
   "metadata": {
    "id": "rEmVG1Fl4q6B"
   },
   "outputs": [],
   "source": [
    "def accuracy_score(y_true: np.ndarray, y_pred: np.ndarray) -> float:\n",
    "    y_true = y_true.reshape(-1)\n",
    "    y_pred = y_pred.reshape(-1)\n",
    "    return np.mean(y_true == y_pred)\n",
    "\n",
    "\n",
    "def feature_importance(rfc):\n",
    "    importance = np.zeros(rfc.n_features)\n",
    "    n_estimators = len(rfc.estimators)\n",
    "    for estimator in rfc.estimators:\n",
    "        X_oob, y_oob = estimator.out_of_bag\n",
    "        oob_pred = estimator.predict(X_oob)\n",
    "        err_oob = 1 - accuracy_score(y_oob, oob_pred)\n",
    "        for i in range(rfc.n_features):\n",
    "            X_oob_perm = X_oob.copy()\n",
    "            np.random.shuffle(X_oob_perm[:, i])\n",
    "            oob_pred_j = estimator.predict(X_oob_perm)\n",
    "            err_oob_j = 1 - accuracy_score(y_oob, oob_pred_j)\n",
    "            importance[i] += err_oob_j - err_oob\n",
    "    return importance / n_estimators\n",
    "\n",
    "\n",
    "def most_important_features(importance, names, k=20):\n",
    "    # Выводит названия k самых важных признаков\n",
    "    indices = np.argsort(importance)[::-1][:k]\n",
    "    return np.array(names)[indices]"
   ]
  },
  {
   "cell_type": "markdown",
   "metadata": {
    "id": "JooN_YKm4q6B"
   },
   "source": [
    "Наконец, пришло время протестировать наше дерево на простом синтетическом наборе данных. В результате точность должна быть примерно равна `1.0`, наибольшее значение важности должно быть у признака с индексом `4`, признаки с индексами `2` и `3`  должны быть одинаково важны, а остальные признаки - не важны совсем."
   ]
  },
  {
   "cell_type": "code",
   "execution_count": 110,
   "metadata": {
    "id": "8gqYMp994q6B",
    "colab": {
     "base_uri": "https://localhost:8080/"
    },
    "outputId": "063d6cd0-09b6-4ce6-a290-e817be15869d"
   },
   "outputs": [
    {
     "output_type": "stream",
     "name": "stdout",
     "text": [
      "Accuracy: 1.0\n",
      "Importance: [ 1.70452947e-03 -2.44826556e-04  1.54450440e-01  1.43690023e-01\n",
      "  2.94225041e-01  1.47239289e-03]\n"
     ]
    }
   ],
   "source": [
    "def synthetic_dataset(size):\n",
    "    X = [\n",
    "        (np.random.randint(0, 2), np.random.randint(0, 2), i % 6 == 3, i % 6 == 0, i % 3 == 2, np.random.randint(0, 2))\n",
    "        for i in range(size)\n",
    "    ]\n",
    "    y = [i % 3 for i in range(size)]\n",
    "    return np.array(X), np.array(y)\n",
    "\n",
    "\n",
    "X, y = synthetic_dataset(1000)\n",
    "rfc = RandomForestClassifier(n_estimators=100)\n",
    "rfc.fit(X, y)\n",
    "rfc.predict(X)\n",
    "print(\"Accuracy:\", np.mean(rfc.predict(X) == y))\n",
    "print(\"Importance:\", feature_importance(rfc))"
   ]
  },
  {
   "cell_type": "markdown",
   "metadata": {
    "id": "vRtGOs164q6C"
   },
   "source": [
    "### Задание 4 (1 балл)\n",
    "Теперь поработаем с реальными данными.\n",
    "\n",
    "Выборка состоит из публичных анонимизированных данных пользователей социальной сети Вконтакте. Первые два столбца отражают возрастную группу (`zoomer`, `doomer` и `boomer`) и пол (`female`, `male`). Все остальные столбцы являются бинарными признаками, каждый из них определяет, подписан ли пользователь на определенную группу/публичную страницу или нет.\\\n",
    "\\\n",
    "Необходимо обучить два классификатора, один из которых определяет возрастную группу, а второй - пол.\\\n",
    "\\\n",
    "Эксперименты с множеством используемых признаков и подбор гиперпараметров приветствуются. Лес должен строиться за какое-то разумное время."
   ]
  },
  {
   "cell_type": "code",
   "execution_count": 111,
   "metadata": {
    "id": "HruobK-q4q6C"
   },
   "outputs": [],
   "source": [
    "def read_dataset(path):\n",
    "    dataframe = pandas.read_csv(path, header=0)\n",
    "    dataset = dataframe.values.tolist()\n",
    "    random.shuffle(dataset)\n",
    "    y_age = [row[0] for row in dataset]\n",
    "    y_sex = [row[1] for row in dataset]\n",
    "    X = [row[2:] for row in dataset]\n",
    "\n",
    "    return np.array(X), np.array(y_age), np.array(y_sex), list(dataframe.columns)[2:]"
   ]
  },
  {
   "cell_type": "code",
   "execution_count": 112,
   "metadata": {
    "id": "K0QXWr3b4q6C"
   },
   "outputs": [],
   "source": [
    "X, y_age, y_sex, features = read_dataset(\"vk.csv\")\n",
    "X_train, X_test, y_age_train, y_age_test, y_sex_train, y_sex_test = train_test_split(X, y_age, y_sex, train_size=0.9)"
   ]
  },
  {
   "cell_type": "code",
   "source": [
    "X_train_unique, idx = np.unique(X_train, axis=0, return_index=True)\n",
    "y_age_train_unique = y_age_train[idx]\n",
    "y_sex_train_unique = y_sex_train[idx]"
   ],
   "metadata": {
    "id": "BxiVl_3qNIlH"
   },
   "execution_count": 113,
   "outputs": []
  },
  {
   "cell_type": "code",
   "source": [
    "train_size = X_train_unique.shape[0]\n",
    "ratio = np.mean(X_train, axis=0)\n",
    "mask = (ratio < 0.03) | (ratio > 0.97)\n",
    "X_train_selected = X_train_unique[:, ~mask]\n",
    "X_test_selected = X_test[:, ~mask]\n",
    "print(f\"Removed {np.sum(mask)} features with numbers {np.where(mask)[0]}\")"
   ],
   "metadata": {
    "colab": {
     "base_uri": "https://localhost:8080/"
    },
    "id": "lUmMNMVnKrrz",
    "outputId": "629fe3f1-63c7-4db2-fdab-45f556fe8582"
   },
   "execution_count": 114,
   "outputs": [
    {
     "output_type": "stream",
     "name": "stdout",
     "text": [
      "Removed 11 features with numbers [ 32  33  35  40  55  62  70  73  97 124 148]\n"
     ]
    }
   ]
  },
  {
   "cell_type": "code",
   "source": [
    "del_idx = np.where(mask)[0]\n",
    "new_features = []\n",
    "for i in range(len(features)):\n",
    "    if i not in del_idx:\n",
    "        new_features.append(features[i])"
   ],
   "metadata": {
    "id": "hDKppBWnYBEh"
   },
   "execution_count": 115,
   "outputs": []
  },
  {
   "cell_type": "code",
   "source": [
    "sub_train_cnt = np.sum(X_train_selected, axis=1).reshape(-1, 1)\n",
    "sub_test_cnt = np.sum(X_test_selected, axis=1).reshape(-1, 1)\n",
    "X_train_with_subs = np.hstack((X_train_selected, sub_train_cnt))\n",
    "X_test_with_subs = np.hstack((X_test_selected, sub_test_cnt))\n",
    "new_features.append(\"subscription_cnt\")"
   ],
   "metadata": {
    "id": "zIq4hYJsSYrT"
   },
   "execution_count": 116,
   "outputs": []
  },
  {
   "cell_type": "markdown",
   "metadata": {
    "id": "I0y8J97m4q6C"
   },
   "source": [
    "#### Возраст"
   ]
  },
  {
   "cell_type": "code",
   "source": [
    "from sklearn.model_selection import GridSearchCV"
   ],
   "metadata": {
    "id": "Y3JATPuWEowJ"
   },
   "execution_count": 117,
   "outputs": []
  },
  {
   "cell_type": "code",
   "source": [
    "rfc = RandomForestClassifier()\n",
    "rfc_param_grid = {\n",
    "    \"criterion\": [\"gini\", \"entropy\"],\n",
    "    \"max_depth\": [None, 5, 10, 15, 25],\n",
    "    \"min_samples_leaf\": [1, 10, 20, 50],\n",
    "    \"n_estimators\": [10, 50, 100],\n",
    "}\n",
    "grid_search = GridSearchCV(estimator=rfc, param_grid=rfc_param_grid, scoring=\"accuracy\", cv=3, verbose=1)\n",
    "\n",
    "grid_search.fit(X_train_with_subs, y_age_train_unique)\n",
    "print(\"Лучшие гиперпараметры:\", grid_search.best_params_)\n",
    "\n",
    "print(\"Лучший Accuracy:\", grid_search.best_score_)"
   ],
   "metadata": {
    "colab": {
     "base_uri": "https://localhost:8080/"
    },
    "id": "aEDLuQNpEt9F",
    "outputId": "0c0a7c00-cc03-4931-c880-667bafa9ed2e"
   },
   "execution_count": 118,
   "outputs": [
    {
     "output_type": "stream",
     "name": "stdout",
     "text": [
      "Fitting 3 folds for each of 120 candidates, totalling 360 fits\n",
      "Лучшие гиперпараметры: {'criterion': 'gini', 'max_depth': None, 'min_samples_leaf': 1, 'n_estimators': 100}\n",
      "Лучший Accuracy: 0.7079068387479602\n"
     ]
    }
   ]
  },
  {
   "cell_type": "code",
   "execution_count": 119,
   "metadata": {
    "id": "MLJykJZH4q6C",
    "colab": {
     "base_uri": "https://localhost:8080/"
    },
    "outputId": "831df2e1-34a0-410d-dd94-59c308914922"
   },
   "outputs": [
    {
     "output_type": "stream",
     "name": "stdout",
     "text": [
      "Accuracy: 0.7351828499369483\n",
      "Most important features:\n",
      "1. ovsyanochan\n",
      "2. 4ch\n",
      "3. styd.pozor\n",
      "4. rhymes\n",
      "5. mudakoff\n",
      "6. dayvinchik\n",
      "7. pravdashowtop\n",
      "8. rapnewrap\n",
      "9. iwantyou\n",
      "10. bot_maxim\n",
      "11. tumblr_vacuum\n",
      "12. reflexia_our_feelings\n",
      "13. pixel_stickers\n",
      "14. ohhluul\n",
      "15. bog_memes\n",
      "16. leprum\n",
      "17. xfilm\n",
      "18. ne1party\n",
      "19. i_d_t\n",
      "20. iloveu01\n"
     ]
    }
   ],
   "source": [
    "rfc = RandomForestClassifier(**grid_search.best_params_)\n",
    "\n",
    "rfc.fit(X_train_with_subs, y_age_train_unique)\n",
    "print(\"Accuracy:\", np.mean(rfc.predict(X_test_with_subs) == y_age_test))\n",
    "print(\"Most important features:\")\n",
    "for i, name in enumerate(most_important_features(feature_importance(rfc), new_features, 20)):\n",
    "    print(str(i + 1) + \".\", name)"
   ]
  },
  {
   "cell_type": "markdown",
   "metadata": {
    "id": "cgNpaAKH4q6D"
   },
   "source": [
    "#### Пол"
   ]
  },
  {
   "cell_type": "code",
   "source": [
    "rfc = RandomForestClassifier()\n",
    "rfc_param_grid = {\n",
    "    \"criterion\": [\"gini\", \"entropy\"],\n",
    "    \"max_depth\": [None, 5, 10, 15, 25],\n",
    "    \"min_samples_leaf\": [1, 10, 20, 50],\n",
    "    \"n_estimators\": [10, 50, 100],\n",
    "}\n",
    "grid_search = GridSearchCV(estimator=rfc, param_grid=rfc_param_grid, scoring=\"accuracy\", cv=3, verbose=1)\n",
    "\n",
    "grid_search.fit(X_train_with_subs, y_sex_train_unique)\n",
    "print(\"Лучшие гиперпараметры:\", grid_search.best_params_)\n",
    "\n",
    "print(\"Лучший Accuracy:\", grid_search.best_score_)"
   ],
   "metadata": {
    "colab": {
     "base_uri": "https://localhost:8080/"
    },
    "id": "hOhajEdHeuqh",
    "outputId": "39995abc-1e23-4ec1-b1a6-82695cac6499"
   },
   "execution_count": 120,
   "outputs": [
    {
     "output_type": "stream",
     "name": "stdout",
     "text": [
      "Fitting 3 folds for each of 120 candidates, totalling 360 fits\n",
      "Лучшие гиперпараметры: {'criterion': 'entropy', 'max_depth': None, 'min_samples_leaf': 1, 'n_estimators': 50}\n",
      "Лучший Accuracy: 0.8494288681204569\n"
     ]
    }
   ]
  },
  {
   "cell_type": "code",
   "execution_count": 121,
   "metadata": {
    "id": "X-zne5-R4q6D",
    "colab": {
     "base_uri": "https://localhost:8080/"
    },
    "outputId": "e765ef2f-3138-4777-df23-522bffc62753"
   },
   "outputs": [
    {
     "output_type": "stream",
     "name": "stdout",
     "text": [
      "Accuracy: 0.8650693568726355\n",
      "Most important features:\n",
      "1. 40kg\n",
      "2. girlmeme\n",
      "3. pho\n",
      "4. club128730587\n",
      "5. public_of_music\n",
      "6. webestano\n",
      "7. gm.power\n",
      "8. academyofman\n",
      "9. 9o_6o_9o\n",
      "10. iwantyou\n",
      "11. cook_bon\n",
      "12. iloveu01\n",
      "13. zerofat\n",
      "14. cook_good\n",
      "15. thesmolny\n",
      "16. face\n",
      "17. sketch.books\n",
      "18. leprum\n",
      "19. trahninormalnost1\n",
      "20. rapnewrap\n"
     ]
    }
   ],
   "source": [
    "rfc = RandomForestClassifier(**grid_search.best_params_)\n",
    "rfc.fit(X_train_with_subs, y_sex_train_unique)\n",
    "print(\"Accuracy:\", np.mean(rfc.predict(X_test_with_subs) == y_sex_test))\n",
    "print(\"Most important features:\")\n",
    "for i, name in enumerate(most_important_features(feature_importance(rfc), features, 20)):\n",
    "    print(str(i + 1) + \".\", name)"
   ]
  },
  {
   "cell_type": "markdown",
   "metadata": {
    "id": "pxeTQylQ4q6D"
   },
   "source": [
    "### CatBoost\n",
    "В качестве аьтернативы попробуем CatBoost.\n",
    "\n",
    "Устаниовить его можно просто с помощью `pip install catboost`. Туториалы можно найти, например, [здесь](https://catboost.ai/docs/concepts/python-usages-examples.html#multiclassification) и [здесь](https://github.com/catboost/tutorials/blob/master/python_tutorial.ipynb). Главное - не забудьте использовать `loss_function='MultiClass'`.\\\n",
    "\\\n",
    "Сначала протестируйте CatBoost на синтетических данных. Выведите точность и важность признаков."
   ]
  },
  {
   "cell_type": "code",
   "execution_count": 122,
   "metadata": {
    "id": "DOqVkEnd4q6D",
    "colab": {
     "base_uri": "https://localhost:8080/"
    },
    "outputId": "d9cca545-fa67-41f7-e031-1174d30a225f"
   },
   "outputs": [
    {
     "output_type": "stream",
     "name": "stdout",
     "text": [
      "Accuracy: 1.0\n",
      "Importance: [9.45918392e-03 4.77433498e-03 2.78335273e+01 2.78550156e+01\n",
      " 4.42922373e+01 4.98630028e-03]\n"
     ]
    }
   ],
   "source": [
    "X, y = synthetic_dataset(1000)\n",
    "\n",
    "cb_model = CatBoostClassifier(loss_function=\"MultiClass\", verbose=0)\n",
    "cb_model.fit(X, y)\n",
    "y_pred = cb_model.predict(X)\n",
    "\n",
    "print(\"Accuracy:\", accuracy_score(y_pred, y))\n",
    "print(\"Importance:\", cb_model.feature_importances_)"
   ]
  },
  {
   "cell_type": "markdown",
   "metadata": {
    "id": "tcLRsSNG4q6E"
   },
   "source": [
    "### Задание 5 (3 балла)\n",
    "Попробуем применить один из используемых на практике алгоритмов. В этом нам поможет CatBoost. Также, как и реализованный ними RandomForest, применим его для определения пола и возраста пользователей сети Вконтакте, выведите названия наиболее важных признаков так же, как в задании 3.\\\n",
    "\\\n",
    "Эксперименты с множеством используемых признаков и подбор гиперпараметров приветствуются."
   ]
  },
  {
   "cell_type": "code",
   "source": [
    "from sklearn.metrics import accuracy_score"
   ],
   "metadata": {
    "id": "LtaV48QvxB0e"
   },
   "execution_count": 123,
   "outputs": []
  },
  {
   "cell_type": "code",
   "execution_count": 124,
   "metadata": {
    "id": "hJGrQcO-4q6E"
   },
   "outputs": [],
   "source": [
    "X, y_age, y_sex, features = read_dataset(\"vk.csv\")\n",
    "X_train, X_test, y_age_train, y_age_test, y_sex_train, y_sex_test = train_test_split(X, y_age, y_sex, train_size=0.9)\n",
    "X_train, X_eval, y_age_train, y_age_eval, y_sex_train, y_sex_eval = train_test_split(\n",
    "    X_train, y_age_train, y_sex_train, train_size=0.8\n",
    ")"
   ]
  },
  {
   "cell_type": "code",
   "source": [
    "X_train_unique, idx = np.unique(X_train, axis=0, return_index=True)\n",
    "y_age_train_unique = y_age_train[idx]\n",
    "y_sex_train_unique = y_sex_train[idx]"
   ],
   "metadata": {
    "id": "rL9VxcU51DYh"
   },
   "execution_count": 125,
   "outputs": []
  },
  {
   "cell_type": "code",
   "source": [
    "train_size = X_train_unique.shape[0]\n",
    "ratio = np.mean(X_train, axis=0)\n",
    "mask = (ratio < 0.03) | (ratio > 0.97)\n",
    "X_train_selected = X_train_unique[:, ~mask]\n",
    "X_eval_selected = X_eval[:, ~mask]\n",
    "X_test_selected = X_test[:, ~mask]\n",
    "print(f\"Removed {np.sum(mask)} features with numbers {np.where(mask)[0]}\")"
   ],
   "metadata": {
    "colab": {
     "base_uri": "https://localhost:8080/"
    },
    "id": "NSDmYCFn1PcD",
    "outputId": "67d022b0-00a0-4616-9c54-e8b265d87417"
   },
   "execution_count": 126,
   "outputs": [
    {
     "output_type": "stream",
     "name": "stdout",
     "text": [
      "Removed 10 features with numbers [ 32  33  35  40  62  70  73  97 124 148]\n"
     ]
    }
   ]
  },
  {
   "cell_type": "code",
   "source": [
    "del_idx = np.where(mask)[0]\n",
    "new_features = []\n",
    "for i in range(len(features)):\n",
    "    if i not in del_idx:\n",
    "        new_features.append(features[i])"
   ],
   "metadata": {
    "id": "qoNJVreI1w8z"
   },
   "execution_count": 127,
   "outputs": []
  },
  {
   "cell_type": "code",
   "source": [
    "sub_train_cnt = np.sum(X_train_selected, axis=1).reshape(-1, 1)\n",
    "sub_eval_cnt = np.sum(X_eval_selected, axis=1).reshape(-1, 1)\n",
    "sub_test_cnt = np.sum(X_test_selected, axis=1).reshape(-1, 1)\n",
    "\n",
    "X_train_with_subs = np.hstack((X_train_selected, sub_train_cnt))\n",
    "X_eval_with_subs = np.hstack((X_eval_selected, sub_eval_cnt))\n",
    "X_test_with_subs = np.hstack((X_test_selected, sub_test_cnt))\n",
    "new_features.append(\"subscription_cnt\")"
   ],
   "metadata": {
    "id": "OaNYeZ9h168-"
   },
   "execution_count": 128,
   "outputs": []
  },
  {
   "cell_type": "code",
   "execution_count": 129,
   "metadata": {
    "pycharm": {
     "name": "#%%\n"
    },
    "id": "KSIEWOMc0-sE"
   },
   "outputs": [],
   "source": [
    "max_depth = range(1, 10, 3)\n",
    "min_samples_leaf = range(1, 10, 3)\n",
    "learning_rate = np.linspace(0.001, 1.0, 5)\n",
    "\n",
    "\n",
    "def get_best_params(y_train, y_eval):\n",
    "    best_score, best_params = None, None\n",
    "    for lr, md, msl in tqdm(list(product(learning_rate, max_depth, min_samples_leaf))):\n",
    "        cb_model = CatBoostClassifier(\n",
    "            loss_function=\"MultiClass\", verbose=0, learning_rate=lr, max_depth=md, min_data_in_leaf=msl\n",
    "        )\n",
    "        cb_model.fit(X_train_with_subs, y_train)\n",
    "        y_pred = cb_model.predict(X_eval_with_subs)\n",
    "        score = accuracy_score(y_eval, y_pred)\n",
    "        if best_score is None or score > best_score:\n",
    "            best_score = score\n",
    "            best_params = {\"learning_rate\": lr, \"max_depth\": md, \"min_data_in_leaf\": msl}\n",
    "\n",
    "    return best_params, best_score"
   ]
  },
  {
   "cell_type": "markdown",
   "metadata": {
    "id": "XA5f_8eC4q6E"
   },
   "source": [
    "#### Возраст"
   ]
  },
  {
   "cell_type": "code",
   "execution_count": 130,
   "metadata": {
    "pycharm": {
     "name": "#%%\n"
    },
    "id": "ceWw59i00-sE",
    "colab": {
     "base_uri": "https://localhost:8080/",
     "height": 85,
     "referenced_widgets": [
      "519a54ced55e41f18629bb2bb64fc668",
      "e853b245de12472ca5b5146653b421fd",
      "177e4e5acea545d0b36eca879b0d43f0",
      "1881741a4b28476c8d30ce524b367ff2",
      "4ea9a1116be5485fa382d5e03effcb54",
      "cd990a954b8d4194afc088768f82443a",
      "817eb84f34374d57ac094d107e911dc5",
      "c8bef51576d04fef904cd5a235cf3276",
      "d29a227f563f4e3991f8e70e148ea5f6",
      "ab5d9f29e1e74f2da9f9e07f268e1d46",
      "5bc2a998cace44b48293cda52b824891"
     ]
    },
    "outputId": "8906bbce-2b14-425f-ccaa-1609f68b2375"
   },
   "outputs": [
    {
     "output_type": "display_data",
     "data": {
      "text/plain": [
       "  0%|          | 0/45 [00:00<?, ?it/s]"
      ],
      "application/vnd.jupyter.widget-view+json": {
       "version_major": 2,
       "version_minor": 0,
       "model_id": "519a54ced55e41f18629bb2bb64fc668"
      }
     },
     "metadata": {}
    },
    {
     "output_type": "execute_result",
     "data": {
      "text/plain": [
       "({'learning_rate': np.float64(0.25075), 'max_depth': 1, 'min_data_in_leaf': 1},\n",
       " 0.7554309740714786)"
      ]
     },
     "metadata": {},
     "execution_count": 130
    }
   ],
   "source": [
    "best_params, best_score = get_best_params(y_age_train_unique, y_age_eval)\n",
    "best_params, best_score"
   ]
  },
  {
   "cell_type": "code",
   "execution_count": 131,
   "metadata": {
    "id": "qSeUpxPj4q6E",
    "colab": {
     "base_uri": "https://localhost:8080/"
    },
    "outputId": "14fef88a-feb2-4ae1-9e64-15a0eeb5180a"
   },
   "outputs": [
    {
     "output_type": "stream",
     "name": "stdout",
     "text": [
      "Accuracy: 0.725094577553594\n",
      "Most important features:\n",
      "1. privetuyeba\n",
      "2. styd.pozor\n",
      "3. chop.choppp\n",
      "4. videosos\n",
      "5. rhymes\n",
      "6. cook_bon\n",
      "7. onlyorly\n",
      "8. gm.power\n",
      "9. tumblr_vacuum\n",
      "10. ne.poverish\n"
     ]
    }
   ],
   "source": [
    "cb_model = CatBoostClassifier(loss_function=\"MultiClass\", verbose=0, **best_params)\n",
    "cb_model.fit(X_train_with_subs, y_age_train_unique)\n",
    "y_pred = cb_model.predict(X_test_with_subs)\n",
    "\n",
    "print(\"Accuracy:\", accuracy_score(y_age_test, y_pred))\n",
    "print(\"Most important features:\")\n",
    "for i, name in enumerate(most_important_features(cb_model.feature_importances_, features, 10)):\n",
    "    print(str(i + 1) + \".\", name)"
   ]
  },
  {
   "cell_type": "markdown",
   "metadata": {
    "id": "KfYSptm74q6E"
   },
   "source": [
    "#### Пол"
   ]
  },
  {
   "cell_type": "code",
   "execution_count": 133,
   "metadata": {
    "pycharm": {
     "name": "#%%\n"
    },
    "id": "StJVu8FX0-sF",
    "colab": {
     "base_uri": "https://localhost:8080/",
     "height": 85,
     "referenced_widgets": [
      "b69850e0bca944f88dcf53fa57df52ff",
      "78cb25c83c6944639404dde0ebaefab7",
      "07418cab53594ccfb6b106621cb73b19",
      "80d5b9cc9f9b4c25b548c6b336d2a9eb",
      "ff760d50da314b8b89b7de8ef41a5646",
      "4222922ab7c64b8a9fe275ed6d77a7e5",
      "0cda598c694c4a9e8003b068988ce0bf",
      "0854d62edd824822b40dc515a0663957",
      "a8f0c1074b624ad99faea4ac2b27bee7",
      "347f441adf48449d9616dc14a646f5fb",
      "bc1698dd790b4ceab52551181645b323"
     ]
    },
    "outputId": "18504db1-6d25-4cf1-f8ad-c61e672ac864"
   },
   "outputs": [
    {
     "output_type": "display_data",
     "data": {
      "text/plain": [
       "  0%|          | 0/45 [00:00<?, ?it/s]"
      ],
      "application/vnd.jupyter.widget-view+json": {
       "version_major": 2,
       "version_minor": 0,
       "model_id": "b69850e0bca944f88dcf53fa57df52ff"
      }
     },
     "metadata": {}
    },
    {
     "output_type": "execute_result",
     "data": {
      "text/plain": [
       "({'learning_rate': np.float64(0.25075), 'max_depth': 4, 'min_data_in_leaf': 1},\n",
       " 0.8689558514365803)"
      ]
     },
     "metadata": {},
     "execution_count": 133
    }
   ],
   "source": [
    "best_params, best_score = get_best_params(y_sex_train_unique, y_sex_eval)\n",
    "best_params, best_score"
   ]
  },
  {
   "cell_type": "code",
   "execution_count": 134,
   "metadata": {
    "id": "4rKa-f6F4q6E",
    "pycharm": {
     "name": "#%%\n"
    },
    "colab": {
     "base_uri": "https://localhost:8080/"
    },
    "outputId": "e4a856de-17dd-42e3-9f62-20a30a8c727c"
   },
   "outputs": [
    {
     "output_type": "stream",
     "name": "stdout",
     "text": [
      "Accuracy: 0.8638083228247163\n",
      "Most important features:\n",
      "1. mash\n",
      "2. 40kg\n",
      "3. gm.power\n",
      "4. club52205838\n",
      "5. girlmeme\n",
      "6. 9o_6o_9o\n",
      "7. rapnewrap\n",
      "8. nenormalnoo\n",
      "9. exclusive_muzic\n",
      "10. ne.poverish\n"
     ]
    }
   ],
   "source": [
    "cb_model = CatBoostClassifier(loss_function=\"MultiClass\", verbose=0, **best_params)\n",
    "cb_model.fit(X_train_with_subs, y_sex_train_unique)\n",
    "y_pred = cb_model.predict(X_test_with_subs)\n",
    "\n",
    "print(\"Accuracy:\", accuracy_score(y_sex_test, y_pred))\n",
    "print(\"Most important features:\")\n",
    "for i, name in enumerate(most_important_features(cb_model.feature_importances_, features, 10)):\n",
    "    print(str(i + 1) + \".\", name)"
   ]
  }
 ],
 "metadata": {
  "colab": {
   "provenance": []
  },
  "kernelspec": {
   "display_name": "py_3_10",
   "language": "python",
   "name": "python3"
  },
  "language_info": {
   "codemirror_mode": {
    "name": "ipython",
    "version": 3
   },
   "file_extension": ".py",
   "mimetype": "text/x-python",
   "name": "python",
   "nbconvert_exporter": "python",
   "pygments_lexer": "ipython3",
   "version": "3.10.12"
  },
  "widgets": {
   "application/vnd.jupyter.widget-state+json": {
    "519a54ced55e41f18629bb2bb64fc668": {
     "model_module": "@jupyter-widgets/controls",
     "model_name": "HBoxModel",
     "model_module_version": "1.5.0",
     "state": {
      "_dom_classes": [],
      "_model_module": "@jupyter-widgets/controls",
      "_model_module_version": "1.5.0",
      "_model_name": "HBoxModel",
      "_view_count": null,
      "_view_module": "@jupyter-widgets/controls",
      "_view_module_version": "1.5.0",
      "_view_name": "HBoxView",
      "box_style": "",
      "children": [
       "IPY_MODEL_e853b245de12472ca5b5146653b421fd",
       "IPY_MODEL_177e4e5acea545d0b36eca879b0d43f0",
       "IPY_MODEL_1881741a4b28476c8d30ce524b367ff2"
      ],
      "layout": "IPY_MODEL_4ea9a1116be5485fa382d5e03effcb54"
     }
    },
    "e853b245de12472ca5b5146653b421fd": {
     "model_module": "@jupyter-widgets/controls",
     "model_name": "HTMLModel",
     "model_module_version": "1.5.0",
     "state": {
      "_dom_classes": [],
      "_model_module": "@jupyter-widgets/controls",
      "_model_module_version": "1.5.0",
      "_model_name": "HTMLModel",
      "_view_count": null,
      "_view_module": "@jupyter-widgets/controls",
      "_view_module_version": "1.5.0",
      "_view_name": "HTMLView",
      "description": "",
      "description_tooltip": null,
      "layout": "IPY_MODEL_cd990a954b8d4194afc088768f82443a",
      "placeholder": "​",
      "style": "IPY_MODEL_817eb84f34374d57ac094d107e911dc5",
      "value": "100%"
     }
    },
    "177e4e5acea545d0b36eca879b0d43f0": {
     "model_module": "@jupyter-widgets/controls",
     "model_name": "FloatProgressModel",
     "model_module_version": "1.5.0",
     "state": {
      "_dom_classes": [],
      "_model_module": "@jupyter-widgets/controls",
      "_model_module_version": "1.5.0",
      "_model_name": "FloatProgressModel",
      "_view_count": null,
      "_view_module": "@jupyter-widgets/controls",
      "_view_module_version": "1.5.0",
      "_view_name": "ProgressView",
      "bar_style": "success",
      "description": "",
      "description_tooltip": null,
      "layout": "IPY_MODEL_c8bef51576d04fef904cd5a235cf3276",
      "max": 45,
      "min": 0,
      "orientation": "horizontal",
      "style": "IPY_MODEL_d29a227f563f4e3991f8e70e148ea5f6",
      "value": 45
     }
    },
    "1881741a4b28476c8d30ce524b367ff2": {
     "model_module": "@jupyter-widgets/controls",
     "model_name": "HTMLModel",
     "model_module_version": "1.5.0",
     "state": {
      "_dom_classes": [],
      "_model_module": "@jupyter-widgets/controls",
      "_model_module_version": "1.5.0",
      "_model_name": "HTMLModel",
      "_view_count": null,
      "_view_module": "@jupyter-widgets/controls",
      "_view_module_version": "1.5.0",
      "_view_name": "HTMLView",
      "description": "",
      "description_tooltip": null,
      "layout": "IPY_MODEL_ab5d9f29e1e74f2da9f9e07f268e1d46",
      "placeholder": "​",
      "style": "IPY_MODEL_5bc2a998cace44b48293cda52b824891",
      "value": " 45/45 [15:30&lt;00:00, 36.95s/it]"
     }
    },
    "4ea9a1116be5485fa382d5e03effcb54": {
     "model_module": "@jupyter-widgets/base",
     "model_name": "LayoutModel",
     "model_module_version": "1.2.0",
     "state": {
      "_model_module": "@jupyter-widgets/base",
      "_model_module_version": "1.2.0",
      "_model_name": "LayoutModel",
      "_view_count": null,
      "_view_module": "@jupyter-widgets/base",
      "_view_module_version": "1.2.0",
      "_view_name": "LayoutView",
      "align_content": null,
      "align_items": null,
      "align_self": null,
      "border": null,
      "bottom": null,
      "display": null,
      "flex": null,
      "flex_flow": null,
      "grid_area": null,
      "grid_auto_columns": null,
      "grid_auto_flow": null,
      "grid_auto_rows": null,
      "grid_column": null,
      "grid_gap": null,
      "grid_row": null,
      "grid_template_areas": null,
      "grid_template_columns": null,
      "grid_template_rows": null,
      "height": null,
      "justify_content": null,
      "justify_items": null,
      "left": null,
      "margin": null,
      "max_height": null,
      "max_width": null,
      "min_height": null,
      "min_width": null,
      "object_fit": null,
      "object_position": null,
      "order": null,
      "overflow": null,
      "overflow_x": null,
      "overflow_y": null,
      "padding": null,
      "right": null,
      "top": null,
      "visibility": null,
      "width": null
     }
    },
    "cd990a954b8d4194afc088768f82443a": {
     "model_module": "@jupyter-widgets/base",
     "model_name": "LayoutModel",
     "model_module_version": "1.2.0",
     "state": {
      "_model_module": "@jupyter-widgets/base",
      "_model_module_version": "1.2.0",
      "_model_name": "LayoutModel",
      "_view_count": null,
      "_view_module": "@jupyter-widgets/base",
      "_view_module_version": "1.2.0",
      "_view_name": "LayoutView",
      "align_content": null,
      "align_items": null,
      "align_self": null,
      "border": null,
      "bottom": null,
      "display": null,
      "flex": null,
      "flex_flow": null,
      "grid_area": null,
      "grid_auto_columns": null,
      "grid_auto_flow": null,
      "grid_auto_rows": null,
      "grid_column": null,
      "grid_gap": null,
      "grid_row": null,
      "grid_template_areas": null,
      "grid_template_columns": null,
      "grid_template_rows": null,
      "height": null,
      "justify_content": null,
      "justify_items": null,
      "left": null,
      "margin": null,
      "max_height": null,
      "max_width": null,
      "min_height": null,
      "min_width": null,
      "object_fit": null,
      "object_position": null,
      "order": null,
      "overflow": null,
      "overflow_x": null,
      "overflow_y": null,
      "padding": null,
      "right": null,
      "top": null,
      "visibility": null,
      "width": null
     }
    },
    "817eb84f34374d57ac094d107e911dc5": {
     "model_module": "@jupyter-widgets/controls",
     "model_name": "DescriptionStyleModel",
     "model_module_version": "1.5.0",
     "state": {
      "_model_module": "@jupyter-widgets/controls",
      "_model_module_version": "1.5.0",
      "_model_name": "DescriptionStyleModel",
      "_view_count": null,
      "_view_module": "@jupyter-widgets/base",
      "_view_module_version": "1.2.0",
      "_view_name": "StyleView",
      "description_width": ""
     }
    },
    "c8bef51576d04fef904cd5a235cf3276": {
     "model_module": "@jupyter-widgets/base",
     "model_name": "LayoutModel",
     "model_module_version": "1.2.0",
     "state": {
      "_model_module": "@jupyter-widgets/base",
      "_model_module_version": "1.2.0",
      "_model_name": "LayoutModel",
      "_view_count": null,
      "_view_module": "@jupyter-widgets/base",
      "_view_module_version": "1.2.0",
      "_view_name": "LayoutView",
      "align_content": null,
      "align_items": null,
      "align_self": null,
      "border": null,
      "bottom": null,
      "display": null,
      "flex": null,
      "flex_flow": null,
      "grid_area": null,
      "grid_auto_columns": null,
      "grid_auto_flow": null,
      "grid_auto_rows": null,
      "grid_column": null,
      "grid_gap": null,
      "grid_row": null,
      "grid_template_areas": null,
      "grid_template_columns": null,
      "grid_template_rows": null,
      "height": null,
      "justify_content": null,
      "justify_items": null,
      "left": null,
      "margin": null,
      "max_height": null,
      "max_width": null,
      "min_height": null,
      "min_width": null,
      "object_fit": null,
      "object_position": null,
      "order": null,
      "overflow": null,
      "overflow_x": null,
      "overflow_y": null,
      "padding": null,
      "right": null,
      "top": null,
      "visibility": null,
      "width": null
     }
    },
    "d29a227f563f4e3991f8e70e148ea5f6": {
     "model_module": "@jupyter-widgets/controls",
     "model_name": "ProgressStyleModel",
     "model_module_version": "1.5.0",
     "state": {
      "_model_module": "@jupyter-widgets/controls",
      "_model_module_version": "1.5.0",
      "_model_name": "ProgressStyleModel",
      "_view_count": null,
      "_view_module": "@jupyter-widgets/base",
      "_view_module_version": "1.2.0",
      "_view_name": "StyleView",
      "bar_color": null,
      "description_width": ""
     }
    },
    "ab5d9f29e1e74f2da9f9e07f268e1d46": {
     "model_module": "@jupyter-widgets/base",
     "model_name": "LayoutModel",
     "model_module_version": "1.2.0",
     "state": {
      "_model_module": "@jupyter-widgets/base",
      "_model_module_version": "1.2.0",
      "_model_name": "LayoutModel",
      "_view_count": null,
      "_view_module": "@jupyter-widgets/base",
      "_view_module_version": "1.2.0",
      "_view_name": "LayoutView",
      "align_content": null,
      "align_items": null,
      "align_self": null,
      "border": null,
      "bottom": null,
      "display": null,
      "flex": null,
      "flex_flow": null,
      "grid_area": null,
      "grid_auto_columns": null,
      "grid_auto_flow": null,
      "grid_auto_rows": null,
      "grid_column": null,
      "grid_gap": null,
      "grid_row": null,
      "grid_template_areas": null,
      "grid_template_columns": null,
      "grid_template_rows": null,
      "height": null,
      "justify_content": null,
      "justify_items": null,
      "left": null,
      "margin": null,
      "max_height": null,
      "max_width": null,
      "min_height": null,
      "min_width": null,
      "object_fit": null,
      "object_position": null,
      "order": null,
      "overflow": null,
      "overflow_x": null,
      "overflow_y": null,
      "padding": null,
      "right": null,
      "top": null,
      "visibility": null,
      "width": null
     }
    },
    "5bc2a998cace44b48293cda52b824891": {
     "model_module": "@jupyter-widgets/controls",
     "model_name": "DescriptionStyleModel",
     "model_module_version": "1.5.0",
     "state": {
      "_model_module": "@jupyter-widgets/controls",
      "_model_module_version": "1.5.0",
      "_model_name": "DescriptionStyleModel",
      "_view_count": null,
      "_view_module": "@jupyter-widgets/base",
      "_view_module_version": "1.2.0",
      "_view_name": "StyleView",
      "description_width": ""
     }
    },
    "b69850e0bca944f88dcf53fa57df52ff": {
     "model_module": "@jupyter-widgets/controls",
     "model_name": "HBoxModel",
     "model_module_version": "1.5.0",
     "state": {
      "_dom_classes": [],
      "_model_module": "@jupyter-widgets/controls",
      "_model_module_version": "1.5.0",
      "_model_name": "HBoxModel",
      "_view_count": null,
      "_view_module": "@jupyter-widgets/controls",
      "_view_module_version": "1.5.0",
      "_view_name": "HBoxView",
      "box_style": "",
      "children": [
       "IPY_MODEL_78cb25c83c6944639404dde0ebaefab7",
       "IPY_MODEL_07418cab53594ccfb6b106621cb73b19",
       "IPY_MODEL_80d5b9cc9f9b4c25b548c6b336d2a9eb"
      ],
      "layout": "IPY_MODEL_ff760d50da314b8b89b7de8ef41a5646"
     }
    },
    "78cb25c83c6944639404dde0ebaefab7": {
     "model_module": "@jupyter-widgets/controls",
     "model_name": "HTMLModel",
     "model_module_version": "1.5.0",
     "state": {
      "_dom_classes": [],
      "_model_module": "@jupyter-widgets/controls",
      "_model_module_version": "1.5.0",
      "_model_name": "HTMLModel",
      "_view_count": null,
      "_view_module": "@jupyter-widgets/controls",
      "_view_module_version": "1.5.0",
      "_view_name": "HTMLView",
      "description": "",
      "description_tooltip": null,
      "layout": "IPY_MODEL_4222922ab7c64b8a9fe275ed6d77a7e5",
      "placeholder": "​",
      "style": "IPY_MODEL_0cda598c694c4a9e8003b068988ce0bf",
      "value": "100%"
     }
    },
    "07418cab53594ccfb6b106621cb73b19": {
     "model_module": "@jupyter-widgets/controls",
     "model_name": "FloatProgressModel",
     "model_module_version": "1.5.0",
     "state": {
      "_dom_classes": [],
      "_model_module": "@jupyter-widgets/controls",
      "_model_module_version": "1.5.0",
      "_model_name": "FloatProgressModel",
      "_view_count": null,
      "_view_module": "@jupyter-widgets/controls",
      "_view_module_version": "1.5.0",
      "_view_name": "ProgressView",
      "bar_style": "success",
      "description": "",
      "description_tooltip": null,
      "layout": "IPY_MODEL_0854d62edd824822b40dc515a0663957",
      "max": 45,
      "min": 0,
      "orientation": "horizontal",
      "style": "IPY_MODEL_a8f0c1074b624ad99faea4ac2b27bee7",
      "value": 45
     }
    },
    "80d5b9cc9f9b4c25b548c6b336d2a9eb": {
     "model_module": "@jupyter-widgets/controls",
     "model_name": "HTMLModel",
     "model_module_version": "1.5.0",
     "state": {
      "_dom_classes": [],
      "_model_module": "@jupyter-widgets/controls",
      "_model_module_version": "1.5.0",
      "_model_name": "HTMLModel",
      "_view_count": null,
      "_view_module": "@jupyter-widgets/controls",
      "_view_module_version": "1.5.0",
      "_view_name": "HTMLView",
      "description": "",
      "description_tooltip": null,
      "layout": "IPY_MODEL_347f441adf48449d9616dc14a646f5fb",
      "placeholder": "​",
      "style": "IPY_MODEL_bc1698dd790b4ceab52551181645b323",
      "value": " 45/45 [10:42&lt;00:00, 24.40s/it]"
     }
    },
    "ff760d50da314b8b89b7de8ef41a5646": {
     "model_module": "@jupyter-widgets/base",
     "model_name": "LayoutModel",
     "model_module_version": "1.2.0",
     "state": {
      "_model_module": "@jupyter-widgets/base",
      "_model_module_version": "1.2.0",
      "_model_name": "LayoutModel",
      "_view_count": null,
      "_view_module": "@jupyter-widgets/base",
      "_view_module_version": "1.2.0",
      "_view_name": "LayoutView",
      "align_content": null,
      "align_items": null,
      "align_self": null,
      "border": null,
      "bottom": null,
      "display": null,
      "flex": null,
      "flex_flow": null,
      "grid_area": null,
      "grid_auto_columns": null,
      "grid_auto_flow": null,
      "grid_auto_rows": null,
      "grid_column": null,
      "grid_gap": null,
      "grid_row": null,
      "grid_template_areas": null,
      "grid_template_columns": null,
      "grid_template_rows": null,
      "height": null,
      "justify_content": null,
      "justify_items": null,
      "left": null,
      "margin": null,
      "max_height": null,
      "max_width": null,
      "min_height": null,
      "min_width": null,
      "object_fit": null,
      "object_position": null,
      "order": null,
      "overflow": null,
      "overflow_x": null,
      "overflow_y": null,
      "padding": null,
      "right": null,
      "top": null,
      "visibility": null,
      "width": null
     }
    },
    "4222922ab7c64b8a9fe275ed6d77a7e5": {
     "model_module": "@jupyter-widgets/base",
     "model_name": "LayoutModel",
     "model_module_version": "1.2.0",
     "state": {
      "_model_module": "@jupyter-widgets/base",
      "_model_module_version": "1.2.0",
      "_model_name": "LayoutModel",
      "_view_count": null,
      "_view_module": "@jupyter-widgets/base",
      "_view_module_version": "1.2.0",
      "_view_name": "LayoutView",
      "align_content": null,
      "align_items": null,
      "align_self": null,
      "border": null,
      "bottom": null,
      "display": null,
      "flex": null,
      "flex_flow": null,
      "grid_area": null,
      "grid_auto_columns": null,
      "grid_auto_flow": null,
      "grid_auto_rows": null,
      "grid_column": null,
      "grid_gap": null,
      "grid_row": null,
      "grid_template_areas": null,
      "grid_template_columns": null,
      "grid_template_rows": null,
      "height": null,
      "justify_content": null,
      "justify_items": null,
      "left": null,
      "margin": null,
      "max_height": null,
      "max_width": null,
      "min_height": null,
      "min_width": null,
      "object_fit": null,
      "object_position": null,
      "order": null,
      "overflow": null,
      "overflow_x": null,
      "overflow_y": null,
      "padding": null,
      "right": null,
      "top": null,
      "visibility": null,
      "width": null
     }
    },
    "0cda598c694c4a9e8003b068988ce0bf": {
     "model_module": "@jupyter-widgets/controls",
     "model_name": "DescriptionStyleModel",
     "model_module_version": "1.5.0",
     "state": {
      "_model_module": "@jupyter-widgets/controls",
      "_model_module_version": "1.5.0",
      "_model_name": "DescriptionStyleModel",
      "_view_count": null,
      "_view_module": "@jupyter-widgets/base",
      "_view_module_version": "1.2.0",
      "_view_name": "StyleView",
      "description_width": ""
     }
    },
    "0854d62edd824822b40dc515a0663957": {
     "model_module": "@jupyter-widgets/base",
     "model_name": "LayoutModel",
     "model_module_version": "1.2.0",
     "state": {
      "_model_module": "@jupyter-widgets/base",
      "_model_module_version": "1.2.0",
      "_model_name": "LayoutModel",
      "_view_count": null,
      "_view_module": "@jupyter-widgets/base",
      "_view_module_version": "1.2.0",
      "_view_name": "LayoutView",
      "align_content": null,
      "align_items": null,
      "align_self": null,
      "border": null,
      "bottom": null,
      "display": null,
      "flex": null,
      "flex_flow": null,
      "grid_area": null,
      "grid_auto_columns": null,
      "grid_auto_flow": null,
      "grid_auto_rows": null,
      "grid_column": null,
      "grid_gap": null,
      "grid_row": null,
      "grid_template_areas": null,
      "grid_template_columns": null,
      "grid_template_rows": null,
      "height": null,
      "justify_content": null,
      "justify_items": null,
      "left": null,
      "margin": null,
      "max_height": null,
      "max_width": null,
      "min_height": null,
      "min_width": null,
      "object_fit": null,
      "object_position": null,
      "order": null,
      "overflow": null,
      "overflow_x": null,
      "overflow_y": null,
      "padding": null,
      "right": null,
      "top": null,
      "visibility": null,
      "width": null
     }
    },
    "a8f0c1074b624ad99faea4ac2b27bee7": {
     "model_module": "@jupyter-widgets/controls",
     "model_name": "ProgressStyleModel",
     "model_module_version": "1.5.0",
     "state": {
      "_model_module": "@jupyter-widgets/controls",
      "_model_module_version": "1.5.0",
      "_model_name": "ProgressStyleModel",
      "_view_count": null,
      "_view_module": "@jupyter-widgets/base",
      "_view_module_version": "1.2.0",
      "_view_name": "StyleView",
      "bar_color": null,
      "description_width": ""
     }
    },
    "347f441adf48449d9616dc14a646f5fb": {
     "model_module": "@jupyter-widgets/base",
     "model_name": "LayoutModel",
     "model_module_version": "1.2.0",
     "state": {
      "_model_module": "@jupyter-widgets/base",
      "_model_module_version": "1.2.0",
      "_model_name": "LayoutModel",
      "_view_count": null,
      "_view_module": "@jupyter-widgets/base",
      "_view_module_version": "1.2.0",
      "_view_name": "LayoutView",
      "align_content": null,
      "align_items": null,
      "align_self": null,
      "border": null,
      "bottom": null,
      "display": null,
      "flex": null,
      "flex_flow": null,
      "grid_area": null,
      "grid_auto_columns": null,
      "grid_auto_flow": null,
      "grid_auto_rows": null,
      "grid_column": null,
      "grid_gap": null,
      "grid_row": null,
      "grid_template_areas": null,
      "grid_template_columns": null,
      "grid_template_rows": null,
      "height": null,
      "justify_content": null,
      "justify_items": null,
      "left": null,
      "margin": null,
      "max_height": null,
      "max_width": null,
      "min_height": null,
      "min_width": null,
      "object_fit": null,
      "object_position": null,
      "order": null,
      "overflow": null,
      "overflow_x": null,
      "overflow_y": null,
      "padding": null,
      "right": null,
      "top": null,
      "visibility": null,
      "width": null
     }
    },
    "bc1698dd790b4ceab52551181645b323": {
     "model_module": "@jupyter-widgets/controls",
     "model_name": "DescriptionStyleModel",
     "model_module_version": "1.5.0",
     "state": {
      "_model_module": "@jupyter-widgets/controls",
      "_model_module_version": "1.5.0",
      "_model_name": "DescriptionStyleModel",
      "_view_count": null,
      "_view_module": "@jupyter-widgets/base",
      "_view_module_version": "1.2.0",
      "_view_name": "StyleView",
      "description_width": ""
     }
    }
   }
  }
 },
 "nbformat": 4,
 "nbformat_minor": 0
}